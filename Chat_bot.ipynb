{
 "cells": [
  {
   "cell_type": "code",
   "execution_count": null,
   "metadata": {},
   "outputs": [
    {
     "name": "stdout",
     "output_type": "stream",
     "text": [
      "Requirement already satisfied: nltk in c:\\users\\jagga\\anaconda3\\lib\\site-packages (3.5)\n",
      "Requirement already satisfied: click in c:\\users\\jagga\\anaconda3\\lib\\site-packages (from nltk) (7.1.2)\n",
      "Requirement already satisfied: joblib in c:\\users\\jagga\\anaconda3\\lib\\site-packages (from nltk) (0.17.0)\n",
      "Requirement already satisfied: regex in c:\\users\\jagga\\anaconda3\\lib\\site-packages (from nltk) (2020.10.15)\n",
      "Requirement already satisfied: tqdm in c:\\users\\jagga\\anaconda3\\lib\\site-packages (from nltk) (4.50.2)\n",
      "now you can ask the questions: the chart bot will give answers\n",
      ">need help\n",
      "how can I help you\n"
     ]
    }
   ],
   "source": [
    "# program to create a chatbot\n",
    "!pip install nltk\n",
    "import nltk\n",
    "from nltk.chat.util import Chat, reflections\n",
    "pairs = [ \n",
    "         ['need help', ['how can I help you']],\n",
    "         ['What is today', ['Today is 26-05-2021']],\n",
    "         ['what is ur name', ['I am a chatbot program']],\n",
    "         ['What is ur age', ['I am just created now only']],\n",
    "]\n",
    "chat = Chat(pairs, reflections)\n",
    "print('now you can ask the questions: the chart bot will give answers')\n",
    "chat.converse()\n"
   ]
  },
  {
   "cell_type": "code",
   "execution_count": null,
   "metadata": {},
   "outputs": [],
   "source": []
  }
 ],
 "metadata": {
  "kernelspec": {
   "display_name": "Python 3",
   "language": "python",
   "name": "python3"
  },
  "language_info": {
   "codemirror_mode": {
    "name": "ipython",
    "version": 3
   },
   "file_extension": ".py",
   "mimetype": "text/x-python",
   "name": "python",
   "nbconvert_exporter": "python",
   "pygments_lexer": "ipython3",
   "version": "3.8.5"
  }
 },
 "nbformat": 4,
 "nbformat_minor": 4
}
